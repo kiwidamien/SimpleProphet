{
 "cells": [
  {
   "cell_type": "code",
   "execution_count": null,
   "metadata": {},
   "outputs": [
    {
     "name": "stderr",
     "output_type": "stream",
     "text": [
      "/anaconda3/lib/python3.5/site-packages/matplotlib/font_manager.py:229: UserWarning: Matplotlib is building the font cache using fc-list. This may take a moment.\n",
      "  'Matplotlib is building the font cache using fc-list. '\n"
     ]
    }
   ],
   "source": [
    "import pandas as pd\n",
    "import numpy as np\n",
    "import matplotlib.pyplot as plt\n",
    "\n",
    "%matplotlib inline\n",
    "\n",
    "passengers = pd.read_csv('AirPassengers.csv')\n",
    "passengers.columns = ['date', 'passengers']\n",
    "passengers['date'] = pd.to_datetime(passengers['date'])\n",
    "passengers.set_index('date', inplace = True)\n",
    "passengers.head()\n",
    "\n"
   ]
  },
  {
   "cell_type": "code",
   "execution_count": null,
   "metadata": {},
   "outputs": [],
   "source": [
    "log_passengers = np.log(passengers['passengers'])\n",
    "\n",
    "\n",
    "plt.plot(log_passengers);"
   ]
  },
  {
   "cell_type": "code",
   "execution_count": null,
   "metadata": {},
   "outputs": [],
   "source": [
    "def find_differencing_order(s):\n",
    "    s_copy = s.copy()\n",
    "    std_old = float('inf')\n",
    "    count = 0\n",
    "    while True:\n",
    "        std_curr = s_copy.std()\n",
    "        print(f'Std dev after {count:02d} differences = {std_curr:8.6f}')\n",
    "        if std_curr > std_old:\n",
    "            return count - 1\n",
    "        s_copy = s_copy.diff()\n",
    "        std_old = std_curr\n",
    "        count += 1\n",
    "        \n",
    "find_differencing_order(log_passengers)"
   ]
  },
  {
   "cell_type": "markdown",
   "metadata": {},
   "source": [
    "## Finding p and q"
   ]
  },
  {
   "cell_type": "code",
   "execution_count": null,
   "metadata": {},
   "outputs": [],
   "source": [
    "from statsmodels.tsa.arima_model import ARIMA\n",
    "from statsmodels.graphics.tsaplots import plot_acf, plot_pacf"
   ]
  },
  {
   "cell_type": "code",
   "execution_count": null,
   "metadata": {},
   "outputs": [],
   "source": [
    "plot_acf(log_passengers.diff()[1:]);"
   ]
  },
  {
   "cell_type": "code",
   "execution_count": null,
   "metadata": {},
   "outputs": [],
   "source": [
    "plot_pacf(log_passengers.diff()[2:], lags=20);"
   ]
  },
  {
   "cell_type": "code",
   "execution_count": null,
   "metadata": {},
   "outputs": [],
   "source": [
    "model = ARIMA(log_passengers, order=(2,1,2))\n",
    "model_fit = model.fit()"
   ]
  },
  {
   "cell_type": "code",
   "execution_count": null,
   "metadata": {},
   "outputs": [],
   "source": [
    "#predictions_ARIMA =pd.Series(, index=log_passengers.index)\n",
    "predictions_ARIMA = pd.Series(log_passengers + model_fit.predict(start=1, end=200))\n",
    "predictions_ARIMA.head()"
   ]
  },
  {
   "cell_type": "code",
   "execution_count": null,
   "metadata": {},
   "outputs": [],
   "source": [
    "plt.plot(log_passengers)\n",
    "plt.plot(predictions_ARIMA)"
   ]
  },
  {
   "cell_type": "markdown",
   "metadata": {},
   "source": [
    "## Levels\n",
    "\n",
    "When calling `model_fit.predict` it will (by default) give the difference from the lag1 value (i.e. the differenced value). To recover the actual prediction, use the keyword argument `typ='levels'`. This is the same as adding the original series with one lag (as shown in the cell below).\n",
    "\n",
    "We also have the option of doing `dynamic=True`. This change says \"use the _prediction_ of the lag one timestep as input to the forecast, rather than the actual value (what you get with `dynamic=False`).\" This enables us to simulate doing long term forecasts."
   ]
  },
  {
   "cell_type": "code",
   "execution_count": null,
   "metadata": {},
   "outputs": [],
   "source": [
    "\n",
    "level_prediction = model_fit.predict(start=1, end=265, typ='levels')\n",
    "\n",
    "plt.plot(level_prediction, label='prediction')\n",
    "plt.plot(log_passengers, label='passengers')\n",
    "plt.legend()\n"
   ]
  },
  {
   "cell_type": "code",
   "execution_count": null,
   "metadata": {},
   "outputs": [],
   "source": [
    "(level_prediction - (log_passengers.shift(1) + model_fit.predict(start=1, end=200))).head()"
   ]
  },
  {
   "cell_type": "code",
   "execution_count": null,
   "metadata": {},
   "outputs": [],
   "source": [
    "plt.figure(dpi=200)\n",
    "model_fit.plot_predict(3,265);"
   ]
  },
  {
   "cell_type": "markdown",
   "metadata": {},
   "source": [
    "## Compare to Prophet"
   ]
  },
  {
   "cell_type": "code",
   "execution_count": null,
   "metadata": {},
   "outputs": [],
   "source": [
    "from fbprophet import Prophet\n"
   ]
  },
  {
   "cell_type": "code",
   "execution_count": null,
   "metadata": {},
   "outputs": [],
   "source": []
  }
 ],
 "metadata": {
  "kernelspec": {
   "display_name": "Python 3",
   "language": "python",
   "name": "python3"
  },
  "language_info": {
   "codemirror_mode": {
    "name": "ipython",
    "version": 3
   },
   "file_extension": ".py",
   "mimetype": "text/x-python",
   "name": "python",
   "nbconvert_exporter": "python",
   "pygments_lexer": "ipython3",
   "version": "3.5.5"
  }
 },
 "nbformat": 4,
 "nbformat_minor": 2
}
